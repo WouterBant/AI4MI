{
 "cells": [
  {
   "cell_type": "code",
   "execution_count": 1,
   "metadata": {},
   "outputs": [],
   "source": [
    "%load_ext autoreload\n",
    "%autoreload 2"
   ]
  },
  {
   "cell_type": "code",
   "execution_count": 2,
   "metadata": {},
   "outputs": [],
   "source": [
    "import torch\n",
    "\n",
    "import sys\n",
    "\n",
    "sys.path.append(\"../src\")\n",
    "from ENet import ENet\n",
    "\n",
    "from notebook_utils import (\n",
    "    get_worst_predictions,\n",
    "    get_dataloader,\n",
    "    visualize_worst_predictions,\n",
    ")"
   ]
  },
  {
   "cell_type": "code",
   "execution_count": 3,
   "metadata": {},
   "outputs": [
    {
     "name": "stdout",
     "output_type": "stream",
     "text": [
      ">> Created val dataset with 1967 images...\n",
      "> Initialized ENet (in_dim=1->out_dim=5) with {}\n",
      "Model loaded\n"
     ]
    }
   ],
   "source": [
    "dataloader = get_dataloader(split=\"val\", batch_size=2)\n",
    "model = ENet(1, 5)\n",
    "# TODO load checkpoint\n",
    "device = torch.device(\"cuda\" if torch.cuda.is_available() else \"cpu\")\n",
    "model.to(device)\n",
    "print(\"Model loaded\")"
   ]
  },
  {
   "cell_type": "code",
   "execution_count": 4,
   "metadata": {},
   "outputs": [
    {
     "name": "stderr",
     "output_type": "stream",
     "text": [
      "  0%|          | 0/984 [00:00<?, ?it/s]"
     ]
    },
    {
     "name": "stderr",
     "output_type": "stream",
     "text": [
      "100%|██████████| 984/984 [01:58<00:00,  8.27it/s]\n"
     ]
    }
   ],
   "source": [
    "N = 10\n",
    "worst_predictions = get_worst_predictions(\n",
    "    model, dataloader, device, loss_fn=\"cross_entropy\", num_worst=N\n",
    ")"
   ]
  },
  {
   "cell_type": "code",
   "execution_count": 10,
   "metadata": {},
   "outputs": [],
   "source": [
    "visualize_worst_predictions(\n",
    "    worst_predictions, show_segmentation_area=True, show_segmentation_boundary=True\n",
    ")"
   ]
  }
 ],
 "metadata": {
  "kernelspec": {
   "display_name": "ai4mi",
   "language": "python",
   "name": "python3"
  },
  "language_info": {
   "codemirror_mode": {
    "name": "ipython",
    "version": 3
   },
   "file_extension": ".py",
   "mimetype": "text/x-python",
   "name": "python",
   "nbconvert_exporter": "python",
   "pygments_lexer": "ipython3",
   "version": "3.12.3"
  }
 },
 "nbformat": 4,
 "nbformat_minor": 2
}
