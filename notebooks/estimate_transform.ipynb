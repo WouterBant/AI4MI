{
 "cells": [
  {
   "cell_type": "code",
   "execution_count": 15,
   "metadata": {},
   "outputs": [
    {
     "data": {
      "text/plain": [
       "(np.float32(0.9765625), np.float32(0.9765625), np.float32(2.0))"
      ]
     },
     "execution_count": 15,
     "metadata": {},
     "output_type": "execute_result"
    }
   ],
   "source": [
    "import sys\n",
    "sys.path.append('../src')  # add source directory to path for imports\n",
    "\n",
    "from pathlib import Path\n",
    "from slice_segthor import slice_patient\n",
    "\n",
    "src_path: Path = Path(\"../data/segthor_train/\")\n",
    "dest_path: Path = Path(\"gt1\")\n",
    "\n",
    "slice_patient(\"Patient_27\", dest_path, src_path, (256, 256), original=True)"
   ]
  },
  {
   "cell_type": "code",
   "execution_count": 5,
   "metadata": {},
   "outputs": [],
   "source": [
    "%load_ext autoreload\n",
    "%autoreload 2"
   ]
  },
  {
   "cell_type": "code",
   "execution_count": 8,
   "metadata": {},
   "outputs": [
    {
     "data": {
      "text/plain": [
       "(np.float32(0.9765625), np.float32(0.9765625), np.float32(2.0))"
      ]
     },
     "execution_count": 8,
     "metadata": {},
     "output_type": "execute_result"
    }
   ],
   "source": [
    "dest_path: Path = Path(\"gt2\")\n",
    "# NOTE: now hardcode the 2 after GT in slice_segthor.py and remove afterwards\n",
    "slice_patient(\"Patient_27\", dest_path, src_path, (256, 256), original=True)"
   ]
  },
  {
   "cell_type": "code",
   "execution_count": 16,
   "metadata": {},
   "outputs": [],
   "source": [
    "import matplotlib.pyplot as plt\n",
    "from pathlib import Path\n",
    "import numpy as np\n",
    "\n",
    "file_path1 = Path(\"gt1/gt\")\n",
    "file_path2 = Path(\"gt2/gt\")\n",
    "\n",
    "images1 = []\n",
    "images2 = []\n",
    "\n",
    "for i, (file1, file2) in enumerate(zip(sorted(file_path1.iterdir()), sorted(file_path2.iterdir()))):\n",
    "    img1 = plt.imread(file1)\n",
    "    img2 = plt.imread(file2)\n",
    "\n",
    "    if not np.all(img1 == img2):\n",
    "        img1 = np.where(img1 == 0.49411765, 1, 0)\n",
    "        img2 = np.where(img2 == 0.49411765, 1, 0)\n",
    "        images1.append(img1)\n",
    "        images2.append(img2)"
   ]
  },
  {
   "cell_type": "code",
   "execution_count": 10,
   "metadata": {},
   "outputs": [],
   "source": [
    "from torchvision import transforms\n",
    "import torch"
   ]
  },
  {
   "cell_type": "code",
   "execution_count": 18,
   "metadata": {},
   "outputs": [],
   "source": [
    "# Showcasing the correct transformation\n",
    "\n",
    "for i in range(len(images1)):\n",
    "    fix, ax = plt.subplots(1, 3, figsize=(10, 5))\n",
    "    a = transforms.functional.affine(torch.from_numpy(images1[i-15][None, ...]), angle=25, translate=(7, 45), scale=1.0, shear=0).squeeze()\n",
    "\n",
    "    ax[0].imshow(a)\n",
    "    ax[1].imshow(images2[i])\n",
    "    ax[2].imshow(a+images2[i])\n"
   ]
  },
  {
   "cell_type": "code",
   "execution_count": 19,
   "metadata": {},
   "outputs": [
    {
     "data": {
      "text/plain": [
       "(np.float32(0.9765625), np.float32(0.9765625), np.float32(2.0))"
      ]
     },
     "execution_count": 19,
     "metadata": {},
     "output_type": "execute_result"
    }
   ],
   "source": [
    "# By default this transformation will be applied now\n",
    "\n",
    "dest_path: Path = Path(\"gt1\")\n",
    "slice_patient(\"Patient_27\", dest_path, src_path, (256, 256), original=False)"
   ]
  },
  {
   "cell_type": "code",
   "execution_count": 25,
   "metadata": {},
   "outputs": [],
   "source": [
    "for img1, img2 in zip(Path(\"gt1/gt\").iterdir(), Path(\"gt2/gt\").iterdir()):\n",
    "    img1 = plt.imread(img1)\n",
    "    img2 = plt.imread(img2)\n",
    "    fix, ax = plt.subplots(1, 3, figsize=(10, 5))\n",
    "    ax[0].imshow(img1)\n",
    "    ax[1].imshow(img2)\n",
    "    ax[2].imshow(img1+img2)"
   ]
  }
 ],
 "metadata": {
  "kernelspec": {
   "display_name": "ai4mi",
   "language": "python",
   "name": "python3"
  },
  "language_info": {
   "codemirror_mode": {
    "name": "ipython",
    "version": 3
   },
   "file_extension": ".py",
   "mimetype": "text/x-python",
   "name": "python",
   "nbconvert_exporter": "python",
   "pygments_lexer": "ipython3",
   "version": "3.12.3"
  }
 },
 "nbformat": 4,
 "nbformat_minor": 2
}
