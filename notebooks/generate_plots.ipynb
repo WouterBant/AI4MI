{
 "cells": [
  {
   "cell_type": "code",
   "execution_count": 4,
   "metadata": {},
   "outputs": [
    {
     "name": "stderr",
     "output_type": "stream",
     "text": [
      "/Users/jasper/Library/CloudStorage/GoogleDrive-jasper.eppink@gmail.com/My Drive/Documents/school/Master/AI/Jaar 2/AI for Medical Imaging/Git code our/AI4MI/ai4mi/lib/python3.12/site-packages/torch/storage.py:414: FutureWarning: You are using `torch.load` with `weights_only=False` (the current default value), which uses the default pickle module implicitly. It is possible to construct malicious pickle data which will execute arbitrary code during unpickling (See https://github.com/pytorch/pytorch/blob/main/SECURITY.md#untrusted-models for more details). In a future release, the default value for `weights_only` will be flipped to `True`. This limits the functions that could be executed during unpickling. Arbitrary objects will no longer be allowed to be loaded via this mode unless they are explicitly allowlisted by the user via `torch.serialization.add_safe_globals`. We recommend you start setting `weights_only=True` for any use case where you don't have full control of the loaded file. Please open an issue on GitHub for any issues related to this experimental feature.\n",
      "  return torch.load(io.BytesIO(b))\n"
     ]
    }
   ],
   "source": [
    "# General information\n",
    "classes = ['Background', 'Esophagus', 'Heart', 'Trachea', 'Aorta']\n",
    "metrics = ['dice', 'sensitivity', 'specificity', 'hausdorff', 'iou', 'precision', 'volumetric', 'VOE']\n",
    "\n",
    "import seaborn as sns\n",
    "import pickle as pkl\n",
    "\n",
    "# import the metric results\n",
    "result_location = '../results/SEGTHOR/ENet'\n",
    "metrics = pkl.load(open(result_location + '/test_metrics.pkl', 'rb'))\n",
    "patients = list(metrics.keys())\n"
   ]
  },
  {
   "cell_type": "markdown",
   "metadata": {},
   "source": [
    "## Create a barplot for the different organs"
   ]
  },
  {
   "cell_type": "code",
   "execution_count": null,
   "metadata": {},
   "outputs": [],
   "source": [
    "# Make a subset of the metrics\n",
    "subset_metrics = ['dice', 'hausdorff', 'volumetric']\n",
    "\n",
    "# For each metric and patient and organ calculate the mean and std\n",
    "mean_metrics = {}\n",
    "std_metrics = {}\n",
    "\n",
    "for metric in subset_metrics:\n",
    "    for class_name in classes:\n",
    "        # Initialize the mean and std\n",
    "        mean_metrics[metric + '_' + class_name] = 0\n",
    "        std_metrics[metric + '_' + class_name] = 0\n",
    "        # Calculate the mean and std\n",
    "        for patient in patients:\n",
    "            for slice in metrics[patient].keys():\n",
    "                mean_metrics[metric + '_' + class_name] += metrics[patient][slice][class_name][metric]"
   ]
  },
  {
   "cell_type": "markdown",
   "metadata": {},
   "source": [
    "## Create a slice by slice segmentation quality plots"
   ]
  },
  {
   "cell_type": "code",
   "execution_count": null,
   "metadata": {},
   "outputs": [],
   "source": []
  },
  {
   "cell_type": "markdown",
   "metadata": {},
   "source": [
    "## Create a violon plot"
   ]
  }
 ],
 "metadata": {
  "kernelspec": {
   "display_name": "ai4mi",
   "language": "python",
   "name": "python3"
  },
  "language_info": {
   "codemirror_mode": {
    "name": "ipython",
    "version": 3
   },
   "file_extension": ".py",
   "mimetype": "text/x-python",
   "name": "python",
   "nbconvert_exporter": "python",
   "pygments_lexer": "ipython3",
   "version": "3.12.5"
  }
 },
 "nbformat": 4,
 "nbformat_minor": 2
}
