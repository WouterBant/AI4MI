{
 "cells": [
  {
   "cell_type": "code",
   "execution_count": null,
   "metadata": {},
   "outputs": [],
   "source": [
    "import os\n",
    "import shutil\n",
    "\n",
    "# Define paths\n",
    "input_dir = \"../data/segthor_train/train\"  # Your current dataset path\n",
    "output_dir = \"../data/nnUNet_raw/Dataset001_segthor\"  # Your target nnU-Net dataset path\n",
    "\n",
    "# Create nnU-Net directories\n",
    "os.makedirs(os.path.join(output_dir, \"imagesTr\"), exist_ok=True)\n",
    "os.makedirs(os.path.join(output_dir, \"labelsTr\"), exist_ok=True)\n",
    "\n",
    "# Process patients\n",
    "for patient_folder in os.listdir(input_dir):\n",
    "    patient_path = os.path.join(input_dir, patient_folder)\n",
    "\n",
    "    if os.path.isdir(patient_path):\n",
    "        # Move image file to imagesTr and rename\n",
    "        img_src = os.path.join(patient_path, f\"{patient_folder}.nii.gz\")\n",
    "        img_dst = os.path.join(output_dir, \"imagesTr\", f\"{patient_folder}_0000.nii.gz\")\n",
    "        shutil.copy(img_src, img_dst)\n",
    "\n",
    "        # Move GT file to labelsTr and rename\n",
    "        gt_src = os.path.join(patient_path, \"GT.nii.gz\")\n",
    "        gt_dst = os.path.join(output_dir, \"labelsTr\", f\"{patient_folder}.nii.gz\")\n",
    "        shutil.copy(gt_src, gt_dst)\n",
    "\n",
    "print(\"Dataset restructuring complete!\")"
   ]
  }
 ],
 "metadata": {
  "language_info": {
   "name": "python"
  }
 },
 "nbformat": 4,
 "nbformat_minor": 2
}
